{
 "cells": [
  {
   "cell_type": "code",
   "execution_count": 1,
   "metadata": {},
   "outputs": [],
   "source": [
    "from math import log\n",
    "import numpy as np\n",
    "import matplotlib.pyplot as plt\n",
    "%matplotlib inline"
   ]
  },
  {
   "cell_type": "code",
   "execution_count": 2,
   "metadata": {},
   "outputs": [],
   "source": [
    "def createDataSet():\n",
    "    dataSet = [[1, 1, 'yes'],\n",
    "              [1, 1, 'yes'],\n",
    "              [1, 0, 'no'],\n",
    "              [0, 1, 'no'],\n",
    "              [0, 1, 'no']]\n",
    "    labels = ['no surfacing', 'flippers']\n",
    "    return dataSet, labels"
   ]
  },
  {
   "cell_type": "code",
   "execution_count": 3,
   "metadata": {},
   "outputs": [],
   "source": [
    "def calcShannonEnt(dataSet):\n",
    "    numEntries = len(dataSet)\n",
    "    labelCounts = {}\n",
    "    # featVec = feature vector 特征向量\n",
    "    for featVec in dataSet:\n",
    "        # 创建数据字典，其键值为最后一列的数值\n",
    "        currentLabel = featVec[-1]\n",
    "        # 如果当前键值不存在，则扩展字典并将当前键值加入字典\n",
    "        if(currentLabel not in labelCounts.keys()):\n",
    "            labelCounts[currentLabel] = 0\n",
    "        labelCounts[currentLabel] += 1\n",
    "    # 初始化香农熵\n",
    "    shannonEnt = 0.0\n",
    "    for key in labelCounts:\n",
    "        # 用频率代替概率\n",
    "        prob = float(labelCounts[key]) / numEntries\n",
    "        # entropy = -(求和)p*log(p)\n",
    "        shannonEnt -= prob * log(prob, 2)\n",
    "    return shannonEnt"
   ]
  },
  {
   "cell_type": "code",
   "execution_count": 4,
   "metadata": {},
   "outputs": [
    {
     "name": "stdout",
     "output_type": "stream",
     "text": [
      "[[1, 1, 'yes'], [1, 1, 'yes'], [1, 0, 'no'], [0, 1, 'no'], [0, 1, 'no']]\n",
      "['no surfacing', 'flippers']\n"
     ]
    },
    {
     "data": {
      "text/plain": [
       "0.9709505944546686"
      ]
     },
     "execution_count": 4,
     "metadata": {},
     "output_type": "execute_result"
    }
   ],
   "source": [
    "myDat, labels = createDataSet()\n",
    "print(myDat)\n",
    "print(labels)\n",
    "calcShannonEnt(myDat)"
   ]
  },
  {
   "cell_type": "code",
   "execution_count": 5,
   "metadata": {},
   "outputs": [],
   "source": [
    "def splitDataSet(dataSet, axis, value):\n",
    "    retDataSet = []\n",
    "    # 遍历数据集的所有特征向量\n",
    "    for featVec in dataSet:\n",
    "        # 如果发现第axis轴上的特征符合要求的值\n",
    "        if featVec[axis] == value:\n",
    "            # 划分出符合该特征值的数据集的子集ret，\n",
    "            # 将子集中的该特征的轴去掉，并返回该子集\n",
    "            reducedFeatVec = featVec[:axis]\n",
    "            reducedFeatVec.extend(featVec[axis + 1:])\n",
    "            retDataSet.append(reducedFeatVec)\n",
    "    return retDataSet"
   ]
  },
  {
   "cell_type": "code",
   "execution_count": 6,
   "metadata": {},
   "outputs": [
    {
     "name": "stdout",
     "output_type": "stream",
     "text": [
      "[[1, 1, 'yes'], [1, 1, 'yes'], [1, 0, 'no'], [0, 1, 'no'], [0, 1, 'no']]\n",
      "[[1, 'yes'], [1, 'yes'], [0, 'no']]\n",
      "[[1, 'no'], [1, 'no']]\n"
     ]
    }
   ],
   "source": [
    "myDat, labels = createDataSet()\n",
    "print(myDat)\n",
    "print(splitDataSet(myDat, 0, 1))\n",
    "print(splitDataSet(myDat, 0, 0))"
   ]
  },
  {
   "cell_type": "code",
   "execution_count": 7,
   "metadata": {},
   "outputs": [],
   "source": [
    "def chooseBestFeatureToSplit(dataSet):\n",
    "    numFeatures = len(dataSet[0]) - 1\n",
    "    # 原始数据集的熵\n",
    "    baseEntropy = calcShannonEnt(dataSet)\n",
    "    # 初始化最大信息增益\n",
    "    bestInfoGain = 0.0\n",
    "    # 初始化最佳划分特征\n",
    "    bestFeature = -1\n",
    "    # 遍历所有特征\n",
    "    for i in range(numFeatures):\n",
    "        # 将数据集中所有特征向量的第i个特征值的存入featList\n",
    "        featList = [example[i] for example in dataSet]\n",
    "#         print(featList)\n",
    "        # 将第i个特征的所有可能取值存入uniqueVals\n",
    "        uniqueVals = set(featList)\n",
    "#         print(uniqueVals)\n",
    "        # 对每个特征计算前都初始化新的熵\n",
    "        newEntropy = 0.0\n",
    "        # 遍历所有可能的第i个特征的值\n",
    "        for value in uniqueVals:\n",
    "            # 按第i个特征划分数据集\n",
    "            subDataSet = splitDataSet(dataSet, i, value)\n",
    "            # prob = 不同子集出现的概率\n",
    "            prob = len(subDataSet) / float(len(dataSet))\n",
    "            # 该公式为统计学习方法中的 H(D|A)\n",
    "            newEntropy += prob * calcShannonEnt(subDataSet)\n",
    "        # 计算按第i个特征划分的信息增益\n",
    "        infoGain = baseEntropy - newEntropy\n",
    "#         print(infoGain)\n",
    "        # 如果按当前第i个特征划分得到的信息增益\n",
    "        # 大于之前划分所得到的最大信息增益\n",
    "        if (infoGain > bestInfoGain):\n",
    "            bestInfoGain = infoGain\n",
    "            bestFeature = i\n",
    "    # 返回最佳特征所在轴的索引\n",
    "    return bestFeature"
   ]
  },
  {
   "cell_type": "code",
   "execution_count": 8,
   "metadata": {},
   "outputs": [
    {
     "data": {
      "text/plain": [
       "0"
      ]
     },
     "execution_count": 8,
     "metadata": {},
     "output_type": "execute_result"
    }
   ],
   "source": [
    "chooseBestFeatureToSplit(myDat)"
   ]
  },
  {
   "cell_type": "code",
   "execution_count": 9,
   "metadata": {},
   "outputs": [],
   "source": [
    "import operator\n",
    "def majorityCnt(classList):\n",
    "    '''\n",
    "    类标签的列表\n",
    "    返回次数最多的类标签的名称\n",
    "    '''\n",
    "    classCount = {}\n",
    "    for vote in classList:\n",
    "        if(vote not in classCount.keys()):\n",
    "            classCount[vote] = 0\n",
    "        classCount[vote] += 1\n",
    "    # python3 中 dict的iteritems用items代替了\n",
    "    # sortedClassCount是一个含 ('类标签名称'，出现次数)的列表\n",
    "    sortedClassCount = sorted(classCount.items(),\n",
    "                                  key=operator.itemgetter(1),\n",
    "                                  reverse=True)\n",
    "#     print(sortedClassCount)\n",
    "    # 返回出现次数最多的类标签的名称\n",
    "    return sortedClassCount[0][0]"
   ]
  },
  {
   "cell_type": "code",
   "execution_count": 10,
   "metadata": {},
   "outputs": [],
   "source": [
    "def createTree(dataSet, labels):\n",
    "    '''\n",
    "    递归创建决策树。\n",
    "    首先按给定的数据集D和特征标签列表L，选出信息增益最大的特征A，\n",
    "    按A的可能的值A1和A2划分数据集得到D1，D2和剩余特征列表L_left\n",
    "    createTree(D,L)={'最佳特征A':{'A1':createTree(D1,L_left),\n",
    "                                  'A2':createTree(D2,L_left)}}\n",
    "    直到某个的数据集Di里都是同一类别的实例\n",
    "    或者数据集Di的实例向量长度为1,即用完了所有特征,只剩类别标签\n",
    "    最终返回决策树\n",
    "    '''\n",
    "    classList = [example[-1] for example in dataSet]\n",
    "    # 如果标签列表里第一个标签的总数就等于列表长度\n",
    "    # 即列表里都是同一个标签,则直接返回该标签\n",
    "    if(classList.count(classList[0]) == len(classList)):\n",
    "        return classList[0]\n",
    "    if(len(dataSet[0]) == 1):\n",
    "        return majorityCnt(classList)\n",
    "    # 得到最佳特征所在轴的索引\n",
    "    bestFeat = chooseBestFeatureToSplit(dataSet)\n",
    "    # 通过最佳特征的索引得到名称\n",
    "    bestFeatLabel = labels[bestFeat]\n",
    "    # 一层一层往下分类\n",
    "    # 在最佳特征内嵌套字典，按最佳特征的值添加键，按其值划分的数据集为值\n",
    "    myTree = {bestFeatLabel:{}}\n",
    "    # 从特征列表中删除已经用过的特征名称\n",
    "    del(labels[bestFeat])\n",
    "    # 得到每个实例的最佳特征的值\n",
    "    featValues = [example[bestFeat] for example in dataSet]\n",
    "    # 最佳特征所有可能的值\n",
    "    uniqueVals = set(featValues)\n",
    "    for value in uniqueVals:\n",
    "        subLabels = labels[:]\n",
    "        # 按最佳特征的值划分数据集，并递归创建子树\n",
    "        myTree[bestFeatLabel][value] = createTree(splitDataSet(dataSet,\n",
    "                                                bestFeat, value),subLabels)\n",
    "    return myTree"
   ]
  },
  {
   "cell_type": "code",
   "execution_count": 20,
   "metadata": {},
   "outputs": [
    {
     "name": "stdout",
     "output_type": "stream",
     "text": [
      "{'no surfacing': {0: 'no', 1: {'flippers': {0: 'no', 1: 'yes'}}}}\n"
     ]
    }
   ],
   "source": [
    "myDat, labels = createDataSet()\n",
    "myTree = createTree(myDat, labels)\n",
    "print(myTree)"
   ]
  },
  {
   "cell_type": "code",
   "execution_count": 21,
   "metadata": {},
   "outputs": [],
   "source": [
    "def classify(inputTree, featLabels, testVec):\n",
    "    # firstStr为树的第一个键，即根节点，也即第一个用来划分的特征\n",
    "    firstStr = list(inputTree.keys())[0]\n",
    "    print(\"firstStr：\",firstStr)\n",
    "    # 第一个键对应的值(字典)\n",
    "    secondDict = inputTree[firstStr]\n",
    "    print(\"secondDict：\", secondDict)\n",
    "    # 第一个键特征在特征标签列表中的索引\n",
    "    featIndex = featLabels.index(firstStr)\n",
    "    print(\"featIndex：\", featIndex)\n",
    "    # key是相应特征对应测试实例中的的取值，也即是父子节点间的判断\n",
    "    key = testVec[featIndex]\n",
    "    print(\"key:\", key)\n",
    "    # 该取值对应的子树(字典)或类别标签\n",
    "    valueOfFeat = secondDict[key]\n",
    "    print(\"valueOfFeat:\",valueOfFeat)\n",
    "    # 当valueofFeat不再是字典类型时，退出迭代，此时已经得到分类结果\n",
    "    if isinstance(valueOfFeat, dict):\n",
    "        classLabel = classify(valueOfFeat, featLabels, testVec)\n",
    "        print(\"classLabel:\",classLabel)\n",
    "    else:\n",
    "        classLabel = valueOfFeat\n",
    "        print(\"classLabel:\", classLabel)\n",
    "    return classLabel"
   ]
  },
  {
   "cell_type": "code",
   "execution_count": 22,
   "metadata": {},
   "outputs": [
    {
     "name": "stdout",
     "output_type": "stream",
     "text": [
      "firstStr： no surfacing\n",
      "secondDict： {0: 'no', 1: {'flippers': {0: 'no', 1: 'yes'}}}\n",
      "featIndex： 0\n",
      "key: 1\n",
      "valueOfFeat: {'flippers': {0: 'no', 1: 'yes'}}\n",
      "firstStr： flippers\n",
      "secondDict： {0: 'no', 1: 'yes'}\n",
      "featIndex： 1\n",
      "key: 0\n",
      "valueOfFeat: no\n",
      "classLabel: no\n",
      "classLabel: no\n"
     ]
    },
    {
     "data": {
      "text/plain": [
       "'no'"
      ]
     },
     "execution_count": 22,
     "metadata": {},
     "output_type": "execute_result"
    }
   ],
   "source": [
    "myDat, labels = createDataSet()\n",
    "classify(myTree, labels, [1,0])"
   ]
  },
  {
   "cell_type": "code",
   "execution_count": 16,
   "metadata": {},
   "outputs": [],
   "source": [
    "# 使用pickle存储决策树,读写过程中一定要采用二进制读写模式,不然会报错\n",
    "def storeTree(inputTree, filename):\n",
    "    import pickle\n",
    "    fw = open(filename,'wb')\n",
    "    pickle.dump(inputTree, fw)\n",
    "    fw.close()\n",
    "def grabTree(filename):\n",
    "    import pickle\n",
    "    fr = open(filename,'rb')\n",
    "    return pickle.load(fr)"
   ]
  },
  {
   "cell_type": "code",
   "execution_count": 17,
   "metadata": {},
   "outputs": [
    {
     "name": "stdout",
     "output_type": "stream",
     "text": [
      "{'no surfacing': {0: 'no', 1: {'flippers': {0: 'no', 1: 'yes'}}}}\n"
     ]
    }
   ],
   "source": [
    "storeTree(myTree, 'classifierStorage.txt')\n",
    "myTree = grabTree('classifierStorage.txt')\n",
    "print(myTree)"
   ]
  },
  {
   "cell_type": "code",
   "execution_count": 18,
   "metadata": {},
   "outputs": [
    {
     "name": "stdout",
     "output_type": "stream",
     "text": [
      "{'tearRate': {'normal': {'astigmatic': {'yes': {'prescript': {'hyper': {'age': {'pre': 'no lenses', 'presbyopic': 'no lenses', 'young': 'hard'}}, 'myope': 'hard'}}, 'no': {'age': {'pre': 'soft', 'presbyopic': {'prescript': {'hyper': 'soft', 'myope': 'no lenses'}}, 'young': 'soft'}}}}, 'reduced': 'no lenses'}}\n"
     ]
    }
   ],
   "source": [
    "fr = open('lenses.txt')\n",
    "lenses=[inst.strip().split('\\t') for inst in fr.readlines()]\n",
    "lensesLabels = ['age', 'prescript', 'astigmatic', 'tearRate']\n",
    "lensesTree = createTree(lenses, lensesLabels)\n",
    "print(lensesTree)"
   ]
  },
  {
   "cell_type": "code",
   "execution_count": 19,
   "metadata": {},
   "outputs": [
    {
     "data": {
      "image/png": "[encoded data removed]",
      "text/plain": [
       "<Figure size 432x288 with 1 Axes>"
      ]
     },
     "metadata": {},
     "output_type": "display_data"
    }
   ],
   "source": [
    "from treePlotter import *\n",
    "createPlot(lensesTree)"
   ]
  },
  {
   "cell_type": "code",
   "execution_count": null,
   "metadata": {},
   "outputs": [],
   "source": []
  }
 ],
 "metadata": {
  "kernelspec": {
   "display_name": "Python 3",
   "language": "python",
   "name": "python3"
  },
  "language_info": {
   "codemirror_mode": {
    "name": "ipython",
    "version": 3
   },
   "file_extension": ".py",
   "mimetype": "text/x-python",
   "name": "python",
   "nbconvert_exporter": "python",
   "pygments_lexer": "ipython3",
   "version": "3.6.5"
  }
 },
 "nbformat": 4,
 "nbformat_minor": 2
}
